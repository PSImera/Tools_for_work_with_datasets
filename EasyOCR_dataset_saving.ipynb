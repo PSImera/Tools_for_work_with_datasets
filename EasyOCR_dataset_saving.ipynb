{
 "cells": [
  {
   "cell_type": "code",
   "execution_count": 5,
   "metadata": {},
   "outputs": [
    {
     "name": "stdout",
     "output_type": "stream",
     "text": [
      "<class 'pandas.core.frame.DataFrame'>\n",
      "RangeIndex: 10144 entries, 0 to 10143\n",
      "Data columns (total 2 columns):\n",
      " #   Column    Non-Null Count  Dtype \n",
      "---  ------    --------------  ----- \n",
      " 0   filename  10144 non-null  object\n",
      " 1   words     10144 non-null  object\n",
      "dtypes: object(2)\n",
      "memory usage: 158.6+ KB\n"
     ]
    }
   ],
   "source": [
    "import pandas as pd\n",
    "import os\n",
    "from sklearn.model_selection import train_test_split\n",
    "import shutil\n",
    "\n",
    "path = os.path.join('datasets/EasyOCR_train/labels.csv')\n",
    "df = pd.read_csv(path)\n",
    "\n",
    "df.info()"
   ]
  },
  {
   "cell_type": "code",
   "execution_count": 19,
   "metadata": {},
   "outputs": [],
   "source": [
    "# #  DELETE FILES FROM FOLDER WHICH NOT IN DB\n",
    "\n",
    "# for file in os.listdir('datasets/EasyOCR_train'):\n",
    "#     if file not in df['filename'].to_list():\n",
    "#         os.remove(f'datasets/EasyOCR_train/{file}')\n",
    "#         print(f'{file} удалён')"
   ]
  },
  {
   "cell_type": "code",
   "execution_count": 20,
   "metadata": {},
   "outputs": [],
   "source": [
    "# # DELET ROWS WITHOUT FILE\n",
    "\n",
    "# files = [file for file in os.listdir('datasets/EasyOCR_train')]\n",
    "# df = df[df[\"filename\"].isin(files)].reset_index(drop=True)\n",
    "# df.to_csv('datasets/EasyOCR.csv', index=False)"
   ]
  },
  {
   "cell_type": "code",
   "execution_count": 21,
   "metadata": {},
   "outputs": [],
   "source": [
    "train, val = train_test_split(df, test_size=0.15, random_state=1337, shuffle=True)\n",
    "\n",
    "base_path = 'EesyOCR_trainer\\\\all_data'\n",
    "train_dir = os.path.join(base_path, 'train')\n",
    "val_dir = os.path.join(base_path, 'val')\n",
    "\n",
    "os.makedirs(train_dir, exist_ok=True)\n",
    "os.makedirs(val_dir, exist_ok=True)\n",
    "\n",
    "for file in train['filename']:\n",
    "    src_path = os.path.join('datasets\\\\EasyOCR_train', file)\n",
    "    dst_path = os.path.join(train_dir, file)\n",
    "    if os.path.exists(src_path):\n",
    "        shutil.copy(src_path, dst_path)\n",
    "    else:\n",
    "        print(f\"file not found: {src_path}\")\n",
    "\n",
    "train.to_csv(os.path.join(train_dir, 'labels.csv'), index=False)\n",
    "\n",
    "for file in val['filename']:\n",
    "    src_path = os.path.join('datasets\\\\EasyOCR_train', file)\n",
    "    dst_path = os.path.join(val_dir, file)\n",
    "    if os.path.exists(src_path):\n",
    "        shutil.copy(src_path, dst_path)\n",
    "    else:\n",
    "        print(f\"file not found: {src_path}\")\n",
    "\n",
    "val.to_csv(os.path.join(val_dir, 'labels.csv'), index=False)"
   ]
  },
  {
   "cell_type": "code",
   "execution_count": null,
   "metadata": {},
   "outputs": [],
   "source": []
  }
 ],
 "metadata": {
  "kernelspec": {
   "display_name": "Python 3",
   "language": "python",
   "name": "python3"
  },
  "language_info": {
   "codemirror_mode": {
    "name": "ipython",
    "version": 3
   },
   "file_extension": ".py",
   "mimetype": "text/x-python",
   "name": "python",
   "nbconvert_exporter": "python",
   "pygments_lexer": "ipython3",
   "version": "3.9.0"
  }
 },
 "nbformat": 4,
 "nbformat_minor": 2
}
